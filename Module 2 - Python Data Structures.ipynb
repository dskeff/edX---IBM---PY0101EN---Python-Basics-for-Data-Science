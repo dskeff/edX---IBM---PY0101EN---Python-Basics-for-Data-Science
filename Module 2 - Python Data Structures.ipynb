{
 "cells": [
  {
   "cell_type": "markdown",
   "metadata": {},
   "source": [
    "# <b>Module 2 - Python Data Structures</b> (2019-Sep-29)"
   ]
  },
  {
   "cell_type": "markdown",
   "metadata": {},
   "source": [
    "## Lists and Tuples "
   ]
  },
  {
   "cell_type": "markdown",
   "metadata": {},
   "source": [
    "### Tuples"
   ]
  },
  {
   "cell_type": "markdown",
   "metadata": {},
   "source": [
    "<ul style=\"list-style-type:circle;\">\n",
    "  <li>tuples are an ordered sequence</li>\n",
    "  <li>tuples are written as comma-separated elements withn parentheses</li>\n",
    "  <li>tuples are immutable</li>\n",
    "  <li>tuples can ber sorted</li>\n",
    "  <li>tuples can nesting other tuples</li>\n",
    "</ul> "
   ]
  },
  {
   "cell_type": "code",
   "execution_count": 90,
   "metadata": {},
   "outputs": [
    {
     "name": "stdout",
     "output_type": "stream",
     "text": [
      "Ratings: (10, 9, 6, 5, 10, 8, 9, 6, 2)\n"
     ]
    }
   ],
   "source": [
    "Ratings=(10,9,6,5,10,8,9,6,2);\n",
    "print(\"Ratings:\", Ratings);"
   ]
  },
  {
   "cell_type": "code",
   "execution_count": 91,
   "metadata": {},
   "outputs": [
    {
     "name": "stdout",
     "output_type": "stream",
     "text": [
      "Ratings: (10, 9, 6, 5, 10, 8, 9, 6, 2)\n",
      "Ratings is a  <class 'tuple'>\n"
     ]
    }
   ],
   "source": [
    "Ratings=(10,9,6,5,10,8,9,6,2);\n",
    "print(\"Ratings:\", Ratings);\n",
    "print(\"Ratings is a \", type(Ratings));"
   ]
  },
  {
   "cell_type": "code",
   "execution_count": 2,
   "metadata": {},
   "outputs": [
    {
     "name": "stdout",
     "output_type": "stream",
     "text": [
      "tuple1 = ('disco', 10, 1.2)\n",
      "The type of tuple1 is <class 'tuple'>\n"
     ]
    }
   ],
   "source": [
    "tuple1=('disco', 10,1.2);\n",
    "print(\"tuple1 =\", tuple1);\n",
    "print(\"The type of tuple1 is\", type(tuple1));"
   ]
  },
  {
   "cell_type": "code",
   "execution_count": 3,
   "metadata": {},
   "outputs": [
    {
     "name": "stdout",
     "output_type": "stream",
     "text": [
      "tuple1: ('disco', 10, 1.2)\n",
      "tuple1[0]: disco\n",
      "tuple1[1]: 10\n",
      "tuple1[2]: 1.2\n",
      "tuple1[-1]: 1.2\n",
      "tuple1[-2]: 10\n",
      "tuple1[-3]: disco\n"
     ]
    }
   ],
   "source": [
    "tuple1=('disco', 10, 1.2);\n",
    "print(\"tuple1:\", tuple1);\n",
    "print(\"tuple1[0]:\", tuple1[0]);\n",
    "print(\"tuple1[1]:\", tuple1[1]);\n",
    "print(\"tuple1[2]:\", tuple1[2]);\n",
    "print(\"tuple1[-1]:\", tuple1[-1]);\n",
    "print(\"tuple1[-2]:\", tuple1[-2]);\n",
    "print(\"tuple1[-3]:\", tuple1[-3]);"
   ]
  },
  {
   "cell_type": "code",
   "execution_count": 4,
   "metadata": {},
   "outputs": [
    {
     "name": "stdout",
     "output_type": "stream",
     "text": [
      "tuple1: ('disco', 10, 1.2)\n",
      "tuple2: ('disco', 10, 1.2, 'hard rock', 10)\n"
     ]
    }
   ],
   "source": [
    "tuple1=('disco', 10, 1.2);\n",
    "print(\"tuple1:\", tuple1);\n",
    "tuple2=tuple1+(\"hard rock\", 10);\n",
    "print(\"tuple2:\", tuple2);"
   ]
  },
  {
   "cell_type": "code",
   "execution_count": 5,
   "metadata": {
    "jupyter": {
     "source_hidden": true
    }
   },
   "outputs": [
    {
     "name": "stdout",
     "output_type": "stream",
     "text": [
      "tuple2: ('disco', 10, 1.2, 'hard rock', 10)\n",
      "tuple2[0:3]: ('disco', 10, 1.2)\n",
      "tuple2[3:5]: ('hard rock', 10)\n"
     ]
    }
   ],
   "source": [
    "tuple2=('disco', 10, 1.2, 'hard rock', 10);\n",
    "print(\"tuple2:\", tuple2);\n",
    "print(\"tuple2[0:3]:\", tuple2[0:3]);\n",
    "print(\"tuple2[3:5]:\", tuple2[3:5]);"
   ]
  },
  {
   "cell_type": "code",
   "execution_count": 10,
   "metadata": {},
   "outputs": [
    {
     "name": "stdout",
     "output_type": "stream",
     "text": [
      "tupla: ('disco', 10, 1.2, 'hard rock', 10)\n",
      "O tamanho da tupla é 5\n"
     ]
    }
   ],
   "source": [
    "print(\"tupla:\",('disco', 10, 1.2, 'hard rock', 10))\n",
    "print(\"O tamanho da tupla é\", len(('disco', 10, 1.2, 'hard rock', 10)));"
   ]
  },
  {
   "cell_type": "code",
   "execution_count": 6,
   "metadata": {},
   "outputs": [
    {
     "name": "stdout",
     "output_type": "stream",
     "text": [
      "tuple2: ('disco', 10, 1.2, 'hard rock', 10)\n",
      "Tamanho da tupla \"tuple2\": 5\n"
     ]
    }
   ],
   "source": [
    "tuple2=('disco', 10, 1.2, 'hard rock', 10);\n",
    "print(\"tuple2:\", tuple2);\n",
    "print(\"Tamanho da tupla \\\"tuple2\\\":\", len(tuple2));"
   ]
  },
  {
   "cell_type": "code",
   "execution_count": 12,
   "metadata": {},
   "outputs": [
    {
     "name": "stdout",
     "output_type": "stream",
     "text": [
      "Ratings: (10, 9, 6, 5, 10, 8, 9, 6, 2)\n",
      "RatingSorted: [2, 5, 6, 6, 8, 9, 9, 10, 10]\n"
     ]
    }
   ],
   "source": [
    "Ratings=(10,9,6,5,10,8,9,6,2);\n",
    "print(\"Ratings:\",Ratings);\n",
    "RatingSorted=sorted(Ratings);\n",
    "print(\"RatingSorted:\",RatingSorted);"
   ]
  },
  {
   "cell_type": "code",
   "execution_count": 13,
   "metadata": {},
   "outputs": [
    {
     "name": "stdout",
     "output_type": "stream",
     "text": [
      "Ratings: (10, 9, 6, 5, 10, 8, 9, 6, 2)\n",
      "RatingSorted: [2, 5, 6, 6, 8, 9, 9, 10, 10]\n"
     ]
    }
   ],
   "source": [
    "Ratings=(10,9,6,5,10,8,9,6,2);\n",
    "print(\"Ratings:\",Ratings);\n",
    "RatingSorted=sorted(Ratings);\n",
    "print(\"RatingSorted:\",RatingSorted);"
   ]
  },
  {
   "cell_type": "code",
   "execution_count": 14,
   "metadata": {},
   "outputs": [
    {
     "name": "stdout",
     "output_type": "stream",
     "text": [
      "NT: (1, 2, ('pop', 'rock'), (3, 4), ('disco', (1, 2)))\n",
      "The len of the tuple NT is  5\n"
     ]
    }
   ],
   "source": [
    "NT=(1,2,(\"pop\",\"rock\"),(3,4),(\"disco\",(1,2)));\n",
    "print(\"NT:\", NT);\n",
    "print(\"The len of the tuple NT is \", len(NT));"
   ]
  },
  {
   "cell_type": "code",
   "execution_count": 21,
   "metadata": {},
   "outputs": [
    {
     "name": "stdout",
     "output_type": "stream",
     "text": [
      "NT: (1, 2, ('pop', 'rock'), (3, 4), ('disco', (1, 2)))\n",
      "\n",
      "NT[2]: ('pop', 'rock')\n",
      "\n",
      "NT[2][0]: pop\n",
      "NT[2][1]: rock\n",
      "\n",
      "NT[2][0][0]: p\n",
      "NT[2][0][1]: o\n",
      "NT[2][0][2]: p\n"
     ]
    }
   ],
   "source": [
    "NT=(1,2,(\"pop\",\"rock\"),(3,4),(\"disco\",(1,2)));\n",
    "print(\"NT:\", NT);\n",
    "print(\"\\nNT[2]:\", NT[2]);\n",
    "print(\"\\nNT[2][0]:\", NT[2][0]);\n",
    "print(\"NT[2][1]:\", NT[2][1]);\n",
    "print(\"\\nNT[2][0][0]:\", NT[2][0][0]);\n",
    "print(\"NT[2][0][1]:\", NT[2][0][1]);\n",
    "print(\"NT[2][0][2]:\", NT[2][0][2]);"
   ]
  },
  {
   "cell_type": "code",
   "execution_count": 24,
   "metadata": {},
   "outputs": [
    {
     "name": "stdout",
     "output_type": "stream",
     "text": [
      "NT: (1, 2, ('pop', 'rock'), (3, 4), ('disco', (1, 2)))\n",
      "Help on tuple object:\n",
      "\n",
      "class tuple(object)\n",
      " |  tuple() -> empty tuple\n",
      " |  tuple(iterable) -> tuple initialized from iterable's items\n",
      " |  \n",
      " |  If the argument is a tuple, the return value is the same object.\n",
      " |  \n",
      " |  Methods defined here:\n",
      " |  \n",
      " |  __add__(self, value, /)\n",
      " |      Return self+value.\n",
      " |  \n",
      " |  __contains__(self, key, /)\n",
      " |      Return key in self.\n",
      " |  \n",
      " |  __eq__(self, value, /)\n",
      " |      Return self==value.\n",
      " |  \n",
      " |  __ge__(self, value, /)\n",
      " |      Return self>=value.\n",
      " |  \n",
      " |  __getattribute__(self, name, /)\n",
      " |      Return getattr(self, name).\n",
      " |  \n",
      " |  __getitem__(self, key, /)\n",
      " |      Return self[key].\n",
      " |  \n",
      " |  __getnewargs__(...)\n",
      " |  \n",
      " |  __gt__(self, value, /)\n",
      " |      Return self>value.\n",
      " |  \n",
      " |  __hash__(self, /)\n",
      " |      Return hash(self).\n",
      " |  \n",
      " |  __iter__(self, /)\n",
      " |      Implement iter(self).\n",
      " |  \n",
      " |  __le__(self, value, /)\n",
      " |      Return self<=value.\n",
      " |  \n",
      " |  __len__(self, /)\n",
      " |      Return len(self).\n",
      " |  \n",
      " |  __lt__(self, value, /)\n",
      " |      Return self<value.\n",
      " |  \n",
      " |  __mul__(self, value, /)\n",
      " |      Return self*value.\n",
      " |  \n",
      " |  __ne__(self, value, /)\n",
      " |      Return self!=value.\n",
      " |  \n",
      " |  __new__(*args, **kwargs) from builtins.type\n",
      " |      Create and return a new object.  See help(type) for accurate signature.\n",
      " |  \n",
      " |  __repr__(self, /)\n",
      " |      Return repr(self).\n",
      " |  \n",
      " |  __rmul__(self, value, /)\n",
      " |      Return value*self.\n",
      " |  \n",
      " |  count(...)\n",
      " |      T.count(value) -> integer -- return number of occurrences of value\n",
      " |  \n",
      " |  index(...)\n",
      " |      T.index(value, [start, [stop]]) -> integer -- return first index of value.\n",
      " |      Raises ValueError if the value is not present.\n",
      "\n"
     ]
    }
   ],
   "source": [
    "NT=(1,2,(\"pop\",\"rock\"),(3,4),(\"disco\",(1,2)));\n",
    "print(\"NT:\", NT);\n",
    "help(NT);"
   ]
  },
  {
   "cell_type": "markdown",
   "metadata": {},
   "source": [
    "### Lists"
   ]
  },
  {
   "cell_type": "markdown",
   "metadata": {},
   "source": [
    "<ul style=\"list-style-type:circle;\">\n",
    "  <li>lists are ordered sequence</li>\n",
    "  <li>lists are written as comma-separated elements withn brackets</li>\n",
    "  <li>lists are mutable</li>\n",
    "  <li>lists can nesting other lists and tuples</li>\n",
    "  <li>lists cab be sliced</li>\n",
    "  <li>lists can be sorted</li>\n",
    "  <li>lists can be appended</li>\n",
    "  <li>list can be extended</li>\n",
    "</ul> "
   ]
  },
  {
   "cell_type": "markdown",
   "metadata": {},
   "source": [
    "### Defining a list"
   ]
  },
  {
   "cell_type": "code",
   "execution_count": 63,
   "metadata": {},
   "outputs": [
    {
     "name": "stdout",
     "output_type": "stream",
     "text": [
      "L: ['Michael Jackson', 10.1, 1982]\n"
     ]
    }
   ],
   "source": [
    "L=[\"Michael Jackson\", 10.1, 1982]\n",
    "print(\"L:\",L);"
   ]
  },
  {
   "cell_type": "code",
   "execution_count": 92,
   "metadata": {},
   "outputs": [
    {
     "name": "stdout",
     "output_type": "stream",
     "text": [
      "L: ['Michael Jackson', 10.1, 1982]\n",
      "L is a  <class 'list'>\n"
     ]
    }
   ],
   "source": [
    "L=[\"Michael Jackson\", 10.1, 1982]\n",
    "print(\"L:\",L);\n",
    "print(\"L is a \", type(L));"
   ]
  },
  {
   "cell_type": "code",
   "execution_count": 64,
   "metadata": {},
   "outputs": [
    {
     "name": "stdout",
     "output_type": "stream",
     "text": [
      "L: ['Michael Jackson', 10.1, 1982]\n",
      "\n",
      "L[0]: Michael Jackson\n",
      "L[1]: 10.1\n",
      "L[2]: 1982\n",
      "\n",
      "L[-1]: 1982\n",
      "L[-2]: 10.1\n",
      "L[-3]: Michael Jackson\n"
     ]
    }
   ],
   "source": [
    "L=[\"Michael Jackson\", 10.1, 1982];\n",
    "print(\"L:\",L);\n",
    "print(\"\\nL[0]:\",L[0]);\n",
    "print(\"L[1]:\",L[1]);\n",
    "print(\"L[2]:\",L[2]);\n",
    "print(\"\\nL[-1]:\",L[-1]);\n",
    "print(\"L[-2]:\",L[-2]);\n",
    "print(\"L[-3]:\",L[-3]);"
   ]
  },
  {
   "cell_type": "markdown",
   "metadata": {},
   "source": [
    "### Slicing a list"
   ]
  },
  {
   "cell_type": "code",
   "execution_count": 65,
   "metadata": {},
   "outputs": [
    {
     "name": "stdout",
     "output_type": "stream",
     "text": [
      "L: ['Michael Jackson', 10.1, 1982, 'MJ', 1]\n",
      "L[3:5]: ['MJ', 1]\n"
     ]
    }
   ],
   "source": [
    "L=[\"Michael Jackson\", 10.1, 1982, \"MJ\", 1];\n",
    "print(\"L:\",L);\n",
    "print(\"L[3:5]:\",L[3:5]);"
   ]
  },
  {
   "cell_type": "markdown",
   "metadata": {},
   "source": [
    "### Len"
   ]
  },
  {
   "cell_type": "code",
   "execution_count": 66,
   "metadata": {},
   "outputs": [
    {
     "name": "stdout",
     "output_type": "stream",
     "text": [
      "L: ['Michael Jackson', 10.1, 1982, 'MJ', 1]\n",
      "The sizing of the list \"L\" is 5\n"
     ]
    }
   ],
   "source": [
    "L=[\"Michael Jackson\", 10.1, 1982, \"MJ\", 1];\n",
    "print(\"L:\",L);\n",
    "print(\"The sizing of the list \\\"L\\\" is\",len(L));"
   ]
  },
  {
   "cell_type": "markdown",
   "metadata": {},
   "source": [
    "### Concatenating lists"
   ]
  },
  {
   "cell_type": "code",
   "execution_count": 67,
   "metadata": {},
   "outputs": [
    {
     "name": "stdout",
     "output_type": "stream",
     "text": [
      "L: ['Michael Jackson', 10.1, 1982]\n",
      "L1: ['Michael Jackson', 10.1, 1982, 'pop', 10]\n"
     ]
    }
   ],
   "source": [
    "L=[\"Michael Jackson\", 10.1, 1982];\n",
    "print(\"L:\",L);\n",
    "L1=L+[\"pop\", 10];\n",
    "print(\"L1:\",L1);"
   ]
  },
  {
   "cell_type": "markdown",
   "metadata": {},
   "source": [
    "### Changing a existent list"
   ]
  },
  {
   "cell_type": "code",
   "execution_count": 68,
   "metadata": {},
   "outputs": [
    {
     "name": "stdout",
     "output_type": "stream",
     "text": [
      "L: ['Michael Jackson', 10.1, 1982]\n",
      "L extended: ['Michael Jackson', 10.1, 1982, 'pop', 10]\n",
      "The sizing of changed list \"L\" is 5\n"
     ]
    }
   ],
   "source": [
    "L=[\"Michael Jackson\", 10.1, 1982];\n",
    "print(\"L:\",L);\n",
    "L.extend([\"pop\", 10]);\n",
    "print(\"L extended:\",L);\n",
    "print(\"The sizing of changed list \\\"L\\\" is\", len(L));"
   ]
  },
  {
   "cell_type": "markdown",
   "metadata": {},
   "source": [
    "### Appending"
   ]
  },
  {
   "cell_type": "code",
   "execution_count": 69,
   "metadata": {},
   "outputs": [
    {
     "name": "stdout",
     "output_type": "stream",
     "text": [
      "L: ['Michael Jackson', 10.1, 1982]\n",
      "L appended: ['Michael Jackson', 10.1, 1982, ['pop', 10]]\n",
      "The sizing of appended list \"L\" is 4\n"
     ]
    }
   ],
   "source": [
    "L=[\"Michael Jackson\", 10.1, 1982];\n",
    "print(\"L:\",L);\n",
    "L.append([\"pop\", 10]);\n",
    "print(\"L appended:\",L);\n",
    "print(\"The sizing of appended list \\\"L\\\" is\", len(L));"
   ]
  },
  {
   "cell_type": "markdown",
   "metadata": {},
   "source": [
    "### Changing Elements"
   ]
  },
  {
   "cell_type": "code",
   "execution_count": 70,
   "metadata": {},
   "outputs": [
    {
     "name": "stdout",
     "output_type": "stream",
     "text": [
      "A: ['disco', 10, 1.2]\n",
      "A: ['hard rock', 10, 1.2]\n"
     ]
    }
   ],
   "source": [
    "A=[\"disco\", 10, 1.2];\n",
    "print(\"A:\", A);\n",
    "A[0]=\"hard rock\";\n",
    "print(\"A:\", A);"
   ]
  },
  {
   "cell_type": "markdown",
   "metadata": {},
   "source": [
    "### Deleting Elements"
   ]
  },
  {
   "cell_type": "code",
   "execution_count": 71,
   "metadata": {},
   "outputs": [
    {
     "name": "stdout",
     "output_type": "stream",
     "text": [
      "A: ['hard rock', 10, 1.2]\n",
      "A: ['hard rock', 1.2]\n"
     ]
    }
   ],
   "source": [
    "A=['hard rock', 10, 1.2];\n",
    "print(\"A:\", A);\n",
    "del(A[1]);\n",
    "print(\"A:\", A);"
   ]
  },
  {
   "cell_type": "markdown",
   "metadata": {},
   "source": [
    "### Converting a string to a list"
   ]
  },
  {
   "cell_type": "code",
   "execution_count": 73,
   "metadata": {},
   "outputs": [
    {
     "name": "stdout",
     "output_type": "stream",
     "text": [
      "['hard', 'rock']\n"
     ]
    }
   ],
   "source": [
    "print('hard rock'.split());"
   ]
  },
  {
   "cell_type": "code",
   "execution_count": 75,
   "metadata": {},
   "outputs": [
    {
     "name": "stdout",
     "output_type": "stream",
     "text": [
      "['A', 'B', 'C', 'D']\n"
     ]
    }
   ],
   "source": [
    "print(\"A,B,C,D\".split(','));"
   ]
  },
  {
   "cell_type": "markdown",
   "metadata": {},
   "source": [
    "### Clonning an existent list"
   ]
  },
  {
   "cell_type": "code",
   "execution_count": 83,
   "metadata": {},
   "outputs": [
    {
     "name": "stdout",
     "output_type": "stream",
     "text": [
      "A: ['hard rock', 10, 1.2]\n",
      "B: ['hard rock', 10, 1.2]\n",
      "B: ['progressive rock', 10, 1.2]\n"
     ]
    }
   ],
   "source": [
    "A=[\"hard rock\", 10, 1.2];\n",
    "print(\"A:\",A);\n",
    "B=A;\n",
    "print(\"B:\",B);\n",
    "A[0]=\"progressive rock\";\n",
    "print(\"B:\",B);"
   ]
  },
  {
   "cell_type": "code",
   "execution_count": 86,
   "metadata": {},
   "outputs": [
    {
     "name": "stdout",
     "output_type": "stream",
     "text": [
      "A: ['hard rock', 10, 1.2]\n",
      "A: ['progressive rock', 10, 1.2]\n",
      "B: ['hard rock', 10, 1.2]\n"
     ]
    }
   ],
   "source": [
    "A=[\"hard rock\", 10, 1.2];\n",
    "print(\"A:\",A);\n",
    "B=A[:]; # if you change after clonning an element from the original after cloning this change will not reflect in the clone\n",
    "A[0]=\"progressive rock\";\n",
    "print(\"A:\",A);\n",
    "print(\"B:\",B);"
   ]
  },
  {
   "cell_type": "code",
   "execution_count": 85,
   "metadata": {},
   "outputs": [
    {
     "name": "stdout",
     "output_type": "stream",
     "text": [
      "The list \"A\": ['hard rock', 10, 1.2]\n",
      "Help on list object:\n",
      "\n",
      "class list(object)\n",
      " |  list() -> new empty list\n",
      " |  list(iterable) -> new list initialized from iterable's items\n",
      " |  \n",
      " |  Methods defined here:\n",
      " |  \n",
      " |  __add__(self, value, /)\n",
      " |      Return self+value.\n",
      " |  \n",
      " |  __contains__(self, key, /)\n",
      " |      Return key in self.\n",
      " |  \n",
      " |  __delitem__(self, key, /)\n",
      " |      Delete self[key].\n",
      " |  \n",
      " |  __eq__(self, value, /)\n",
      " |      Return self==value.\n",
      " |  \n",
      " |  __ge__(self, value, /)\n",
      " |      Return self>=value.\n",
      " |  \n",
      " |  __getattribute__(self, name, /)\n",
      " |      Return getattr(self, name).\n",
      " |  \n",
      " |  __getitem__(...)\n",
      " |      x.__getitem__(y) <==> x[y]\n",
      " |  \n",
      " |  __gt__(self, value, /)\n",
      " |      Return self>value.\n",
      " |  \n",
      " |  __iadd__(self, value, /)\n",
      " |      Implement self+=value.\n",
      " |  \n",
      " |  __imul__(self, value, /)\n",
      " |      Implement self*=value.\n",
      " |  \n",
      " |  __init__(self, /, *args, **kwargs)\n",
      " |      Initialize self.  See help(type(self)) for accurate signature.\n",
      " |  \n",
      " |  __iter__(self, /)\n",
      " |      Implement iter(self).\n",
      " |  \n",
      " |  __le__(self, value, /)\n",
      " |      Return self<=value.\n",
      " |  \n",
      " |  __len__(self, /)\n",
      " |      Return len(self).\n",
      " |  \n",
      " |  __lt__(self, value, /)\n",
      " |      Return self<value.\n",
      " |  \n",
      " |  __mul__(self, value, /)\n",
      " |      Return self*value.\n",
      " |  \n",
      " |  __ne__(self, value, /)\n",
      " |      Return self!=value.\n",
      " |  \n",
      " |  __new__(*args, **kwargs) from builtins.type\n",
      " |      Create and return a new object.  See help(type) for accurate signature.\n",
      " |  \n",
      " |  __repr__(self, /)\n",
      " |      Return repr(self).\n",
      " |  \n",
      " |  __reversed__(...)\n",
      " |      L.__reversed__() -- return a reverse iterator over the list\n",
      " |  \n",
      " |  __rmul__(self, value, /)\n",
      " |      Return value*self.\n",
      " |  \n",
      " |  __setitem__(self, key, value, /)\n",
      " |      Set self[key] to value.\n",
      " |  \n",
      " |  __sizeof__(...)\n",
      " |      L.__sizeof__() -- size of L in memory, in bytes\n",
      " |  \n",
      " |  append(...)\n",
      " |      L.append(object) -> None -- append object to end\n",
      " |  \n",
      " |  clear(...)\n",
      " |      L.clear() -> None -- remove all items from L\n",
      " |  \n",
      " |  copy(...)\n",
      " |      L.copy() -> list -- a shallow copy of L\n",
      " |  \n",
      " |  count(...)\n",
      " |      L.count(value) -> integer -- return number of occurrences of value\n",
      " |  \n",
      " |  extend(...)\n",
      " |      L.extend(iterable) -> None -- extend list by appending elements from the iterable\n",
      " |  \n",
      " |  index(...)\n",
      " |      L.index(value, [start, [stop]]) -> integer -- return first index of value.\n",
      " |      Raises ValueError if the value is not present.\n",
      " |  \n",
      " |  insert(...)\n",
      " |      L.insert(index, object) -- insert object before index\n",
      " |  \n",
      " |  pop(...)\n",
      " |      L.pop([index]) -> item -- remove and return item at index (default last).\n",
      " |      Raises IndexError if list is empty or index is out of range.\n",
      " |  \n",
      " |  remove(...)\n",
      " |      L.remove(value) -> None -- remove first occurrence of value.\n",
      " |      Raises ValueError if the value is not present.\n",
      " |  \n",
      " |  reverse(...)\n",
      " |      L.reverse() -- reverse *IN PLACE*\n",
      " |  \n",
      " |  sort(...)\n",
      " |      L.sort(key=None, reverse=False) -> None -- stable sort *IN PLACE*\n",
      " |  \n",
      " |  ----------------------------------------------------------------------\n",
      " |  Data and other attributes defined here:\n",
      " |  \n",
      " |  __hash__ = None\n",
      "\n"
     ]
    }
   ],
   "source": [
    "A=[\"hard rock\", 10, 1.2];\n",
    "print(\"The list \\\"A\\\":\",A);\n",
    "help(A);"
   ]
  },
  {
   "cell_type": "markdown",
   "metadata": {},
   "source": [
    "## Sets"
   ]
  },
  {
   "cell_type": "markdown",
   "metadata": {},
   "source": [
    "<ul style=\"list-style-type:circle;\">\n",
    "  <li>sets are a type of collection like tuples and lists</li>\n",
    "  <li>unlike lists and tuples sets are unordered (sets do not record element position)</li>\n",
    "  <li>sets only have unique elements (there is only one of a particular element in a set)</li>\n",
    "  <li>sets are written as comma-separated elements within curly brackets</li>\n",
    "</ul> "
   ]
  },
  {
   "cell_type": "markdown",
   "metadata": {},
   "source": [
    "### Deffining a SET"
   ]
  },
  {
   "cell_type": "code",
   "execution_count": 93,
   "metadata": {},
   "outputs": [
    {
     "name": "stdout",
     "output_type": "stream",
     "text": [
      "Set1 {'hard rock', 'soul', 'rock', 'pop', 'R&B', 'disco'}\n",
      "Set1 is a  <class 'set'>\n"
     ]
    }
   ],
   "source": [
    "Set1={\"pop\", \"rock\", \"soul\", \"hard rock\", \"rock\", \"R&B\", \"rock\", \"disco\"};\n",
    "print(\"Set1\", Set1);\n",
    "print(\"Set1 is a \", type(Set1));"
   ]
  },
  {
   "cell_type": "markdown",
   "metadata": {},
   "source": [
    "### Converting a LIST into a SET"
   ]
  },
  {
   "cell_type": "code",
   "execution_count": 97,
   "metadata": {},
   "outputs": [
    {
     "name": "stdout",
     "output_type": "stream",
     "text": [
      "L: ['pop', 'rock', 'soul', 'hard rock', 'rock', 'R&B', 'rock', 'disco']\n",
      "L is a  <class 'list'>\n",
      "\n",
      "L: {'hard rock', 'soul', 'rock', 'pop', 'R&B', 'disco'}\n",
      "L is a  <class 'set'>\n"
     ]
    }
   ],
   "source": [
    "L=[\"pop\", \"rock\", \"soul\", \"hard rock\", \"rock\", \"R&B\", \"rock\", \"disco\"];\n",
    "print(\"L:\",L);\n",
    "print(\"L is a \", type(L));\n",
    "L=set(L);\n",
    "print(\"\\nL:\",L);\n",
    "print(\"L is a \", type(L));"
   ]
  },
  {
   "cell_type": "markdown",
   "metadata": {},
   "source": [
    "### Adding an element to a SET"
   ]
  },
  {
   "cell_type": "code",
   "execution_count": 99,
   "metadata": {},
   "outputs": [
    {
     "name": "stdout",
     "output_type": "stream",
     "text": [
      "A: {'Thriller', 'AC/DC', 'Black in Black'}\n",
      "A: {'Thriller', 'AC/DC', 'NSYSNC', 'Black in Black'}\n"
     ]
    }
   ],
   "source": [
    "A={\"Thriller\",\"Black in Black\",\"AC/DC\"};\n",
    "print(\"A:\",A);\n",
    "A.add(\"NSYSNC\");\n",
    "print(\"A:\",A);"
   ]
  },
  {
   "cell_type": "markdown",
   "metadata": {},
   "source": [
    "### Remove an element from a SET"
   ]
  },
  {
   "cell_type": "code",
   "execution_count": 98,
   "metadata": {},
   "outputs": [
    {
     "name": "stdout",
     "output_type": "stream",
     "text": [
      "A: {'Thriller', 'AC/DC', 'NSYSNC', 'Black in Black'}\n",
      "A: {'Thriller', 'AC/DC', 'Black in Black'}\n"
     ]
    }
   ],
   "source": [
    "A={\"Thriller\",\"Black in Black\",\"AC/DC\",\"NSYSNC\"};\n",
    "print(\"A:\",A);\n",
    "A.remove(\"NSYSNC\");\n",
    "print(\"A:\",A);"
   ]
  },
  {
   "cell_type": "markdown",
   "metadata": {},
   "source": [
    "### Verifying an element of a SET"
   ]
  },
  {
   "cell_type": "code",
   "execution_count": 100,
   "metadata": {},
   "outputs": [
    {
     "name": "stdout",
     "output_type": "stream",
     "text": [
      "A: {'Thriller', 'AC/DC', 'Black in Black'}\n",
      "Is there 'AC/DC' in the set A True\n",
      "Is there 'NSYNC' in the set A False\n"
     ]
    }
   ],
   "source": [
    "A={\"Thriller\",\"Black in Black\",\"AC/DC\"};\n",
    "print(\"A:\",A);\n",
    "print(\"Is there 'AC/DC' in the set A\", \"AC/DC\" in A);\n",
    "print(\"Is there 'NSYNC' in the set A\", \"NSYSNC\" in A);"
   ]
  },
  {
   "cell_type": "markdown",
   "metadata": {},
   "source": [
    "### Verifying the intersection between two SETs"
   ]
  },
  {
   "cell_type": "code",
   "execution_count": 103,
   "metadata": {},
   "outputs": [
    {
     "name": "stdout",
     "output_type": "stream",
     "text": [
      "albumSet1: {'Thriller', 'AC/DC', 'Black in Black'}\n",
      "albumSet2: {'The Dark Side of the Moon', 'AC/DC', 'Black in Black'}\n",
      "The albumSet3 is the intersection of albumSet1 and albumSet2: {'AC/DC', 'Black in Black'}\n"
     ]
    }
   ],
   "source": [
    "albumSet1={\"AC/DC\",\"Black in Black\",\"Thriller\"};\n",
    "print(\"albumSet1:\",albumSet1);\n",
    "albumSet2={\"AC/DC\",\"Black in Black\",\"The Dark Side of the Moon\"};\n",
    "print(\"albumSet2:\",albumSet2);\n",
    "albumSet3=albumSet1 & albumSet2;\n",
    "print(\"The albumSet3 is the intersection of albumSet1 and albumSet2:\",albumSet3);"
   ]
  },
  {
   "cell_type": "markdown",
   "metadata": {},
   "source": [
    "### Union of two SETs"
   ]
  },
  {
   "cell_type": "code",
   "execution_count": 104,
   "metadata": {},
   "outputs": [
    {
     "name": "stdout",
     "output_type": "stream",
     "text": [
      "albumSet1: {'Thriller', 'AC/DC', 'Black in Black'}\n",
      "albumSet2: {'The Dark Side of the Moon', 'AC/DC', 'Black in Black'}\n",
      "The albumSet3 is the UNION of the albumSet1 and albumSet2: {'Thriller', 'The Dark Side of the Moon', 'Black in Black', 'AC/DC'}\n"
     ]
    }
   ],
   "source": [
    "albumSet1={\"AC/DC\",\"Black in Black\",\"Thriller\"};\n",
    "print(\"albumSet1:\",albumSet1);\n",
    "albumSet2={\"AC/DC\",\"Black in Black\",\"The Dark Side of the Moon\"};\n",
    "print(\"albumSet2:\",albumSet2);\n",
    "albumSet3=albumSet1.union(albumSet2);\n",
    "print(\"The albumSet3 is the UNION of the albumSet1 and albumSet2:\",albumSet3);"
   ]
  },
  {
   "cell_type": "markdown",
   "metadata": {},
   "source": [
    "### Subset of two SETs"
   ]
  },
  {
   "cell_type": "code",
   "execution_count": 112,
   "metadata": {},
   "outputs": [
    {
     "name": "stdout",
     "output_type": "stream",
     "text": [
      "albumSet1: {'Thriller', 'AC/DC', 'Black in Black'}\n",
      "\n",
      "albumSet2: {'AC/DC', 'Black in Black'}\n",
      "Is albumSet2 a subset of albumSet1?: True\n",
      "\n",
      "albumSet3: {'Led Zeppelin', 'Black in Black'}\n",
      "Is albumSet3 a subset of albumSet1?: False\n"
     ]
    }
   ],
   "source": [
    "albumSet1={\"AC/DC\",\"Black in Black\",\"Thriller\"};\n",
    "print(\"albumSet1:\",albumSet1);\n",
    "albumSet2={\"AC/DC\",\"Black in Black\"};\n",
    "print(\"\\nalbumSet2:\",albumSet2);\n",
    "print(\"Is albumSet2 a subset of albumSet1?:\", albumSet2.issubset(albumSet1));\n",
    "albumSet3={\"Led Zeppelin\",\"Black in Black\"};\n",
    "print(\"\\nalbumSet3:\",albumSet3);\n",
    "print(\"Is albumSet3 a subset of albumSet1?:\", albumSet3.issubset(albumSet1));"
   ]
  },
  {
   "cell_type": "code",
   "execution_count": 113,
   "metadata": {},
   "outputs": [
    {
     "name": "stdout",
     "output_type": "stream",
     "text": [
      "Help on set object:\n",
      "\n",
      "class set(object)\n",
      " |  set() -> new empty set object\n",
      " |  set(iterable) -> new set object\n",
      " |  \n",
      " |  Build an unordered collection of unique elements.\n",
      " |  \n",
      " |  Methods defined here:\n",
      " |  \n",
      " |  __and__(self, value, /)\n",
      " |      Return self&value.\n",
      " |  \n",
      " |  __contains__(...)\n",
      " |      x.__contains__(y) <==> y in x.\n",
      " |  \n",
      " |  __eq__(self, value, /)\n",
      " |      Return self==value.\n",
      " |  \n",
      " |  __ge__(self, value, /)\n",
      " |      Return self>=value.\n",
      " |  \n",
      " |  __getattribute__(self, name, /)\n",
      " |      Return getattr(self, name).\n",
      " |  \n",
      " |  __gt__(self, value, /)\n",
      " |      Return self>value.\n",
      " |  \n",
      " |  __iand__(self, value, /)\n",
      " |      Return self&=value.\n",
      " |  \n",
      " |  __init__(self, /, *args, **kwargs)\n",
      " |      Initialize self.  See help(type(self)) for accurate signature.\n",
      " |  \n",
      " |  __ior__(self, value, /)\n",
      " |      Return self|=value.\n",
      " |  \n",
      " |  __isub__(self, value, /)\n",
      " |      Return self-=value.\n",
      " |  \n",
      " |  __iter__(self, /)\n",
      " |      Implement iter(self).\n",
      " |  \n",
      " |  __ixor__(self, value, /)\n",
      " |      Return self^=value.\n",
      " |  \n",
      " |  __le__(self, value, /)\n",
      " |      Return self<=value.\n",
      " |  \n",
      " |  __len__(self, /)\n",
      " |      Return len(self).\n",
      " |  \n",
      " |  __lt__(self, value, /)\n",
      " |      Return self<value.\n",
      " |  \n",
      " |  __ne__(self, value, /)\n",
      " |      Return self!=value.\n",
      " |  \n",
      " |  __new__(*args, **kwargs) from builtins.type\n",
      " |      Create and return a new object.  See help(type) for accurate signature.\n",
      " |  \n",
      " |  __or__(self, value, /)\n",
      " |      Return self|value.\n",
      " |  \n",
      " |  __rand__(self, value, /)\n",
      " |      Return value&self.\n",
      " |  \n",
      " |  __reduce__(...)\n",
      " |      Return state information for pickling.\n",
      " |  \n",
      " |  __repr__(self, /)\n",
      " |      Return repr(self).\n",
      " |  \n",
      " |  __ror__(self, value, /)\n",
      " |      Return value|self.\n",
      " |  \n",
      " |  __rsub__(self, value, /)\n",
      " |      Return value-self.\n",
      " |  \n",
      " |  __rxor__(self, value, /)\n",
      " |      Return value^self.\n",
      " |  \n",
      " |  __sizeof__(...)\n",
      " |      S.__sizeof__() -> size of S in memory, in bytes\n",
      " |  \n",
      " |  __sub__(self, value, /)\n",
      " |      Return self-value.\n",
      " |  \n",
      " |  __xor__(self, value, /)\n",
      " |      Return self^value.\n",
      " |  \n",
      " |  add(...)\n",
      " |      Add an element to a set.\n",
      " |      \n",
      " |      This has no effect if the element is already present.\n",
      " |  \n",
      " |  clear(...)\n",
      " |      Remove all elements from this set.\n",
      " |  \n",
      " |  copy(...)\n",
      " |      Return a shallow copy of a set.\n",
      " |  \n",
      " |  difference(...)\n",
      " |      Return the difference of two or more sets as a new set.\n",
      " |      \n",
      " |      (i.e. all elements that are in this set but not the others.)\n",
      " |  \n",
      " |  difference_update(...)\n",
      " |      Remove all elements of another set from this set.\n",
      " |  \n",
      " |  discard(...)\n",
      " |      Remove an element from a set if it is a member.\n",
      " |      \n",
      " |      If the element is not a member, do nothing.\n",
      " |  \n",
      " |  intersection(...)\n",
      " |      Return the intersection of two sets as a new set.\n",
      " |      \n",
      " |      (i.e. all elements that are in both sets.)\n",
      " |  \n",
      " |  intersection_update(...)\n",
      " |      Update a set with the intersection of itself and another.\n",
      " |  \n",
      " |  isdisjoint(...)\n",
      " |      Return True if two sets have a null intersection.\n",
      " |  \n",
      " |  issubset(...)\n",
      " |      Report whether another set contains this set.\n",
      " |  \n",
      " |  issuperset(...)\n",
      " |      Report whether this set contains another set.\n",
      " |  \n",
      " |  pop(...)\n",
      " |      Remove and return an arbitrary set element.\n",
      " |      Raises KeyError if the set is empty.\n",
      " |  \n",
      " |  remove(...)\n",
      " |      Remove an element from a set; it must be a member.\n",
      " |      \n",
      " |      If the element is not a member, raise a KeyError.\n",
      " |  \n",
      " |  symmetric_difference(...)\n",
      " |      Return the symmetric difference of two sets as a new set.\n",
      " |      \n",
      " |      (i.e. all elements that are in exactly one of the sets.)\n",
      " |  \n",
      " |  symmetric_difference_update(...)\n",
      " |      Update a set with the symmetric difference of itself and another.\n",
      " |  \n",
      " |  union(...)\n",
      " |      Return the union of sets as a new set.\n",
      " |      \n",
      " |      (i.e. all elements that are in either set.)\n",
      " |  \n",
      " |  update(...)\n",
      " |      Update a set with the union of itself and others.\n",
      " |  \n",
      " |  ----------------------------------------------------------------------\n",
      " |  Data and other attributes defined here:\n",
      " |  \n",
      " |  __hash__ = None\n",
      "\n"
     ]
    }
   ],
   "source": [
    "albumSet1={\"AC/DC\",\"Black in Black\",\"Thriller\"};\n",
    "help(albumSet1);"
   ]
  },
  {
   "cell_type": "markdown",
   "metadata": {},
   "source": [
    "## Dictionaries"
   ]
  },
  {
   "cell_type": "markdown",
   "metadata": {},
   "source": [
    "<ul style=\"list-style-type:circle;\">\n",
    "  <li>dictionaries is a type of collection</li>\n",
    "  <li>List with indexes (key) and elements (values)</li>\n",
    "  <li>key is an index by label, it is a kind of address, do not need to be a number</li>\n",
    "  <li>values are simmilar to the element in a list and contain information</li>\n",
    "  <li>dictionaries are written as comma-separated elements within curly brackets</li>\n",
    "  <li>the keys have to be immutable and unique</li>\n",
    "  <li>the values can be immutable, mutable and duplicates</li>\n",
    "</ul> "
   ]
  },
  {
   "cell_type": "markdown",
   "metadata": {},
   "source": [
    "### Setting a dictionary"
   ]
  },
  {
   "cell_type": "code",
   "execution_count": 114,
   "metadata": {},
   "outputs": [
    {
     "name": "stdout",
     "output_type": "stream",
     "text": [
      "DICT: {'Daniel': 1977, 'Roberta': 1976, 'Nicole': 1999, 'Beatriz': 2007}\n",
      "The type of DICT is <class 'dict'>\n"
     ]
    }
   ],
   "source": [
    "DICT={\"Daniel\":1977,\"Roberta\":1976,\"Nicole\":1999,\"Beatriz\":2007};\n",
    "print(\"DICT:\",DICT);\n",
    "print(\"The type of DICT is\",type(DICT));"
   ]
  },
  {
   "cell_type": "markdown",
   "metadata": {},
   "source": [
    "### Searching in a dictionary"
   ]
  },
  {
   "cell_type": "code",
   "execution_count": 119,
   "metadata": {},
   "outputs": [
    {
     "name": "stdout",
     "output_type": "stream",
     "text": [
      "DICT: {'Daniel': 1977, 'Roberta': 1976, 'Nicole': 1999, 'Beatriz': 2007}\n",
      "For the key 'Daniel' the value is 1977\n"
     ]
    }
   ],
   "source": [
    "DICT={\"Daniel\":1977,\"Roberta\":1976,\"Nicole\":1999,\"Beatriz\":2007};\n",
    "print(\"DICT:\",DICT);\n",
    "print(\"For the key 'Daniel' the value is\",DICT[\"Daniel\"]);"
   ]
  },
  {
   "cell_type": "markdown",
   "metadata": {},
   "source": [
    "### Add a key value to a dictionary"
   ]
  },
  {
   "cell_type": "code",
   "execution_count": 123,
   "metadata": {},
   "outputs": [
    {
     "name": "stdout",
     "output_type": "stream",
     "text": [
      "DICT: {'Daniel': 1977, 'Roberta': 1976, 'Nicole': 1999, 'Beatriz': 2007}\n",
      "\n",
      "Adding key value 'Fátima':1948 to dictionary DICT\n",
      "DICT: {'Daniel': 1977, 'Roberta': 1976, 'Nicole': 1999, 'Beatriz': 2007, 'Fátima': 1948}\n"
     ]
    }
   ],
   "source": [
    "DICT={\"Daniel\":1977,\"Roberta\":1976,\"Nicole\":1999,\"Beatriz\":2007};\n",
    "print(\"DICT:\",DICT);\n",
    "print(\"\\nAdding key value 'Fátima':1948 to dictionary DICT\");\n",
    "DICT[\"Fátima\"]=1948;\n",
    "print(\"DICT:\",DICT);"
   ]
  },
  {
   "cell_type": "markdown",
   "metadata": {},
   "source": [
    "### Delete a key value from a dictionary"
   ]
  },
  {
   "cell_type": "code",
   "execution_count": 125,
   "metadata": {},
   "outputs": [
    {
     "name": "stdout",
     "output_type": "stream",
     "text": [
      "DICT: {'Daniel': 1977, 'Roberta': 1976, 'Nicole': 1999, 'Beatriz': 2007, 'Fátima': 1948}\n",
      "\n",
      "Deleting key value 'Fátima':1948 from the dictionary DICT\n",
      "DICT: {'Daniel': 1977, 'Roberta': 1976, 'Nicole': 1999, 'Beatriz': 2007}\n"
     ]
    }
   ],
   "source": [
    "DICT={\"Daniel\":1977,\"Roberta\":1976,\"Nicole\":1999,\"Beatriz\":2007,\"Fátima\":1948};\n",
    "print(\"DICT:\",DICT);\n",
    "print(\"\\nDeleting key value 'Fátima':1948 from the dictionary DICT\");\n",
    "del(DICT[\"Fátima\"]);\n",
    "print(\"DICT:\",DICT);"
   ]
  },
  {
   "cell_type": "markdown",
   "metadata": {},
   "source": [
    "### Verifying if a key value exists in a dictionary"
   ]
  },
  {
   "cell_type": "code",
   "execution_count": 128,
   "metadata": {},
   "outputs": [
    {
     "name": "stdout",
     "output_type": "stream",
     "text": [
      "DICT: {'Daniel': 1977, 'Roberta': 1976, 'Nicole': 1999, 'Beatriz': 2007}\n",
      "Is 'Daniel' a key in the dictionary DICT True\n",
      "Is 'Fátima' a key in the dictionary DICT False\n"
     ]
    }
   ],
   "source": [
    "DICT={\"Daniel\":1977,\"Roberta\":1976,\"Nicole\":1999,\"Beatriz\":2007};\n",
    "print(\"DICT:\",DICT);\n",
    "print(\"Is 'Daniel' a key in the dictionary DICT\",\"Daniel\" in DICT);\n",
    "print(\"Is 'Fátima' a key in the dictionary DICT\",\"Fátima\" in DICT);"
   ]
  },
  {
   "cell_type": "markdown",
   "metadata": {},
   "source": [
    "### Getting all the keys of a dictionary"
   ]
  },
  {
   "cell_type": "code",
   "execution_count": 129,
   "metadata": {},
   "outputs": [
    {
     "name": "stdout",
     "output_type": "stream",
     "text": [
      "DICT: {'Daniel': 1977, 'Roberta': 1976, 'Nicole': 1999, 'Beatriz': 2007}\n",
      "The keys of the dictionary DICT is dict_keys(['Daniel', 'Roberta', 'Nicole', 'Beatriz'])\n"
     ]
    }
   ],
   "source": [
    "DICT={\"Daniel\":1977,\"Roberta\":1976,\"Nicole\":1999,\"Beatriz\":2007};\n",
    "print(\"DICT:\",DICT);\n",
    "print(\"The keys of the dictionary DICT is\", DICT.keys());"
   ]
  },
  {
   "cell_type": "markdown",
   "metadata": {},
   "source": [
    "### Getting all the values of a dictionary"
   ]
  },
  {
   "cell_type": "code",
   "execution_count": 130,
   "metadata": {},
   "outputs": [
    {
     "name": "stdout",
     "output_type": "stream",
     "text": [
      "DICT: {'Daniel': 1977, 'Roberta': 1976, 'Nicole': 1999, 'Beatriz': 2007}\n",
      "The values of the dictionary DICT is dict_values([1977, 1976, 1999, 2007])\n"
     ]
    }
   ],
   "source": [
    "DICT={\"Daniel\":1977,\"Roberta\":1976,\"Nicole\":1999,\"Beatriz\":2007};\n",
    "print(\"DICT:\",DICT);\n",
    "print(\"The values of the dictionary DICT is\", DICT.values());"
   ]
  },
  {
   "cell_type": "code",
   "execution_count": 137,
   "metadata": {},
   "outputs": [
    {
     "name": "stdout",
     "output_type": "stream",
     "text": [
      "Help on dict object:\n",
      "\n",
      "class dict(object)\n",
      " |  dict() -> new empty dictionary\n",
      " |  dict(mapping) -> new dictionary initialized from a mapping object's\n",
      " |      (key, value) pairs\n",
      " |  dict(iterable) -> new dictionary initialized as if via:\n",
      " |      d = {}\n",
      " |      for k, v in iterable:\n",
      " |          d[k] = v\n",
      " |  dict(**kwargs) -> new dictionary initialized with the name=value pairs\n",
      " |      in the keyword argument list.  For example:  dict(one=1, two=2)\n",
      " |  \n",
      " |  Methods defined here:\n",
      " |  \n",
      " |  __contains__(self, key, /)\n",
      " |      True if D has a key k, else False.\n",
      " |  \n",
      " |  __delitem__(self, key, /)\n",
      " |      Delete self[key].\n",
      " |  \n",
      " |  __eq__(self, value, /)\n",
      " |      Return self==value.\n",
      " |  \n",
      " |  __ge__(self, value, /)\n",
      " |      Return self>=value.\n",
      " |  \n",
      " |  __getattribute__(self, name, /)\n",
      " |      Return getattr(self, name).\n",
      " |  \n",
      " |  __getitem__(...)\n",
      " |      x.__getitem__(y) <==> x[y]\n",
      " |  \n",
      " |  __gt__(self, value, /)\n",
      " |      Return self>value.\n",
      " |  \n",
      " |  __init__(self, /, *args, **kwargs)\n",
      " |      Initialize self.  See help(type(self)) for accurate signature.\n",
      " |  \n",
      " |  __iter__(self, /)\n",
      " |      Implement iter(self).\n",
      " |  \n",
      " |  __le__(self, value, /)\n",
      " |      Return self<=value.\n",
      " |  \n",
      " |  __len__(self, /)\n",
      " |      Return len(self).\n",
      " |  \n",
      " |  __lt__(self, value, /)\n",
      " |      Return self<value.\n",
      " |  \n",
      " |  __ne__(self, value, /)\n",
      " |      Return self!=value.\n",
      " |  \n",
      " |  __new__(*args, **kwargs) from builtins.type\n",
      " |      Create and return a new object.  See help(type) for accurate signature.\n",
      " |  \n",
      " |  __repr__(self, /)\n",
      " |      Return repr(self).\n",
      " |  \n",
      " |  __setitem__(self, key, value, /)\n",
      " |      Set self[key] to value.\n",
      " |  \n",
      " |  __sizeof__(...)\n",
      " |      D.__sizeof__() -> size of D in memory, in bytes\n",
      " |  \n",
      " |  clear(...)\n",
      " |      D.clear() -> None.  Remove all items from D.\n",
      " |  \n",
      " |  copy(...)\n",
      " |      D.copy() -> a shallow copy of D\n",
      " |  \n",
      " |  fromkeys(iterable, value=None, /) from builtins.type\n",
      " |      Returns a new dict with keys from iterable and values equal to value.\n",
      " |  \n",
      " |  get(...)\n",
      " |      D.get(k[,d]) -> D[k] if k in D, else d.  d defaults to None.\n",
      " |  \n",
      " |  items(...)\n",
      " |      D.items() -> a set-like object providing a view on D's items\n",
      " |  \n",
      " |  keys(...)\n",
      " |      D.keys() -> a set-like object providing a view on D's keys\n",
      " |  \n",
      " |  pop(...)\n",
      " |      D.pop(k[,d]) -> v, remove specified key and return the corresponding value.\n",
      " |      If key is not found, d is returned if given, otherwise KeyError is raised\n",
      " |  \n",
      " |  popitem(...)\n",
      " |      D.popitem() -> (k, v), remove and return some (key, value) pair as a\n",
      " |      2-tuple; but raise KeyError if D is empty.\n",
      " |  \n",
      " |  setdefault(...)\n",
      " |      D.setdefault(k[,d]) -> D.get(k,d), also set D[k]=d if k not in D\n",
      " |  \n",
      " |  update(...)\n",
      " |      D.update([E, ]**F) -> None.  Update D from dict/iterable E and F.\n",
      " |      If E is present and has a .keys() method, then does:  for k in E: D[k] = E[k]\n",
      " |      If E is present and lacks a .keys() method, then does:  for k, v in E: D[k] = v\n",
      " |      In either case, this is followed by: for k in F:  D[k] = F[k]\n",
      " |  \n",
      " |  values(...)\n",
      " |      D.values() -> an object providing a view on D's values\n",
      " |  \n",
      " |  ----------------------------------------------------------------------\n",
      " |  Data and other attributes defined here:\n",
      " |  \n",
      " |  __hash__ = None\n",
      "\n"
     ]
    }
   ],
   "source": [
    "DICT={\"Daniel\":1977,\"Roberta\":1976,\"Nicole\":1999,\"Beatriz\":2007};\n",
    "help(DICT);"
   ]
  },
  {
   "cell_type": "markdown",
   "metadata": {},
   "source": [
    "### What is the syntax to obtain the first element of the tuple: A=('a','b','c')"
   ]
  },
  {
   "cell_type": "code",
   "execution_count": 141,
   "metadata": {},
   "outputs": [
    {
     "name": "stdout",
     "output_type": "stream",
     "text": [
      "A ('a', 'b', 'c')\n",
      "a\n"
     ]
    }
   ],
   "source": [
    "A=('a','b','c');\n",
    "print(\"A\",A);\n",
    "print(A[0]);"
   ]
  },
  {
   "cell_type": "markdown",
   "metadata": {},
   "source": [
    "### Consider the following Python Dictionary: Dict={\"A\":1,\"B\":\"2\",\"C\":[3,3,3],\"D\":(4,4,4),'E':5,'F':6}, what is the result of the following operation: Dict[\"D\"]"
   ]
  },
  {
   "cell_type": "code",
   "execution_count": 140,
   "metadata": {},
   "outputs": [
    {
     "name": "stdout",
     "output_type": "stream",
     "text": [
      "Dict: {'A': 1, 'B': '2', 'C': [3, 3, 3], 'D': (4, 4, 4), 'E': 5, 'F': 6}\n",
      "Dict['D']: (4, 4, 4)\n"
     ]
    }
   ],
   "source": [
    "Dict={\"A\":1,\"B\":\"2\",\"C\":[3,3,3],\"D\":(4,4,4),'E':5,'F':6};\n",
    "print(\"Dict:\", Dict);\n",
    "print(\"Dict['D']:\", Dict['D']);"
   ]
  },
  {
   "cell_type": "code",
   "execution_count": null,
   "metadata": {},
   "outputs": [],
   "source": []
  }
 ],
 "metadata": {
  "kernelspec": {
   "display_name": "Python",
   "language": "python",
   "name": "conda-env-python-py"
  },
  "language_info": {
   "codemirror_mode": {
    "name": "ipython",
    "version": 3
   },
   "file_extension": ".py",
   "mimetype": "text/x-python",
   "name": "python",
   "nbconvert_exporter": "python",
   "pygments_lexer": "ipython3",
   "version": "3.6.7"
  }
 },
 "nbformat": 4,
 "nbformat_minor": 4
}
